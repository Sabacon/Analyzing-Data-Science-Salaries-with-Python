{
 "cells": [
  {
   "cell_type": "code",
   "execution_count": 1,
   "metadata": {},
   "outputs": [],
   "source": [
    "# importing the usual suspects\n",
    "\n",
    "import numpy as np\n",
    "import pandas as pd\n",
    "import matplotlib.pyplot as plt\n",
    "import seaborn as sns"
   ]
  },
  {
   "cell_type": "code",
   "execution_count": 2,
   "metadata": {},
   "outputs": [],
   "source": [
    "# reading in the data\n",
    "\n",
    "sal=pd.read_csv('v3_Latest_Data_Science_Salaries.csv')"
   ]
  },
  {
   "cell_type": "code",
   "execution_count": 3,
   "metadata": {},
   "outputs": [
    {
     "data": {
      "text/html": [
       "<div>\n",
       "<style scoped>\n",
       "    .dataframe tbody tr th:only-of-type {\n",
       "        vertical-align: middle;\n",
       "    }\n",
       "\n",
       "    .dataframe tbody tr th {\n",
       "        vertical-align: top;\n",
       "    }\n",
       "\n",
       "    .dataframe thead th {\n",
       "        text-align: right;\n",
       "    }\n",
       "</style>\n",
       "<table border=\"1\" class=\"dataframe\">\n",
       "  <thead>\n",
       "    <tr style=\"text-align: right;\">\n",
       "      <th></th>\n",
       "      <th>Job Title</th>\n",
       "      <th>Employment Type</th>\n",
       "      <th>Experience Level</th>\n",
       "      <th>Expertise Level</th>\n",
       "      <th>Salary</th>\n",
       "      <th>Salary Currency</th>\n",
       "      <th>Company Location</th>\n",
       "      <th>Salary in USD</th>\n",
       "      <th>Employee Residence</th>\n",
       "      <th>Company Size</th>\n",
       "      <th>Year</th>\n",
       "    </tr>\n",
       "  </thead>\n",
       "  <tbody>\n",
       "    <tr>\n",
       "      <th>0</th>\n",
       "      <td>Data Scientist</td>\n",
       "      <td>Full-Time</td>\n",
       "      <td>Senior</td>\n",
       "      <td>Expert</td>\n",
       "      <td>265000</td>\n",
       "      <td>United States Dollar</td>\n",
       "      <td>United States</td>\n",
       "      <td>265000</td>\n",
       "      <td>United States</td>\n",
       "      <td>Medium</td>\n",
       "      <td>2023</td>\n",
       "    </tr>\n",
       "    <tr>\n",
       "      <th>1</th>\n",
       "      <td>Data Scientist</td>\n",
       "      <td>Full-Time</td>\n",
       "      <td>Senior</td>\n",
       "      <td>Expert</td>\n",
       "      <td>172000</td>\n",
       "      <td>United States Dollar</td>\n",
       "      <td>United States</td>\n",
       "      <td>172000</td>\n",
       "      <td>United States</td>\n",
       "      <td>Medium</td>\n",
       "      <td>2023</td>\n",
       "    </tr>\n",
       "    <tr>\n",
       "      <th>2</th>\n",
       "      <td>Machine Learning Engineer</td>\n",
       "      <td>Full-Time</td>\n",
       "      <td>Mid</td>\n",
       "      <td>Intermediate</td>\n",
       "      <td>155810</td>\n",
       "      <td>United States Dollar</td>\n",
       "      <td>United States</td>\n",
       "      <td>155810</td>\n",
       "      <td>United States</td>\n",
       "      <td>Medium</td>\n",
       "      <td>2023</td>\n",
       "    </tr>\n",
       "    <tr>\n",
       "      <th>3</th>\n",
       "      <td>Machine Learning Engineer</td>\n",
       "      <td>Full-Time</td>\n",
       "      <td>Mid</td>\n",
       "      <td>Intermediate</td>\n",
       "      <td>106720</td>\n",
       "      <td>United States Dollar</td>\n",
       "      <td>United States</td>\n",
       "      <td>106720</td>\n",
       "      <td>United States</td>\n",
       "      <td>Medium</td>\n",
       "      <td>2023</td>\n",
       "    </tr>\n",
       "    <tr>\n",
       "      <th>4</th>\n",
       "      <td>Data Scientist</td>\n",
       "      <td>Full-Time</td>\n",
       "      <td>Entry</td>\n",
       "      <td>Junior</td>\n",
       "      <td>160800</td>\n",
       "      <td>United States Dollar</td>\n",
       "      <td>United Kingdom</td>\n",
       "      <td>160800</td>\n",
       "      <td>United Kingdom</td>\n",
       "      <td>Medium</td>\n",
       "      <td>2023</td>\n",
       "    </tr>\n",
       "  </tbody>\n",
       "</table>\n",
       "</div>"
      ],
      "text/plain": [
       "                   Job Title Employment Type Experience Level Expertise Level  \\\n",
       "0             Data Scientist       Full-Time           Senior          Expert   \n",
       "1             Data Scientist       Full-Time           Senior          Expert   \n",
       "2  Machine Learning Engineer       Full-Time              Mid    Intermediate   \n",
       "3  Machine Learning Engineer       Full-Time              Mid    Intermediate   \n",
       "4             Data Scientist       Full-Time            Entry          Junior   \n",
       "\n",
       "   Salary       Salary Currency Company Location  Salary in USD  \\\n",
       "0  265000  United States Dollar    United States         265000   \n",
       "1  172000  United States Dollar    United States         172000   \n",
       "2  155810  United States Dollar    United States         155810   \n",
       "3  106720  United States Dollar    United States         106720   \n",
       "4  160800  United States Dollar   United Kingdom         160800   \n",
       "\n",
       "  Employee Residence Company Size  Year  \n",
       "0      United States       Medium  2023  \n",
       "1      United States       Medium  2023  \n",
       "2      United States       Medium  2023  \n",
       "3      United States       Medium  2023  \n",
       "4     United Kingdom       Medium  2023  "
      ]
     },
     "execution_count": 3,
     "metadata": {},
     "output_type": "execute_result"
    }
   ],
   "source": [
    "# first 5 rows\n",
    "\n",
    "sal.head()"
   ]
  },
  {
   "cell_type": "code",
   "execution_count": 4,
   "metadata": {},
   "outputs": [
    {
     "name": "stdout",
     "output_type": "stream",
     "text": [
      "<class 'pandas.core.frame.DataFrame'>\n",
      "RangeIndex: 3552 entries, 0 to 3551\n",
      "Data columns (total 11 columns):\n",
      " #   Column              Non-Null Count  Dtype \n",
      "---  ------              --------------  ----- \n",
      " 0   Job Title           3552 non-null   object\n",
      " 1   Employment Type     3552 non-null   object\n",
      " 2   Experience Level    3552 non-null   object\n",
      " 3   Expertise Level     3552 non-null   object\n",
      " 4   Salary              3552 non-null   int64 \n",
      " 5   Salary Currency     3552 non-null   object\n",
      " 6   Company Location    3552 non-null   object\n",
      " 7   Salary in USD       3552 non-null   int64 \n",
      " 8   Employee Residence  3552 non-null   object\n",
      " 9   Company Size        3552 non-null   object\n",
      " 10  Year                3552 non-null   int64 \n",
      "dtypes: int64(3), object(8)\n",
      "memory usage: 305.4+ KB\n"
     ]
    }
   ],
   "source": [
    "# a summary of our dataframe\n",
    "\n",
    "sal.info()"
   ]
  },
  {
   "cell_type": "markdown",
   "metadata": {},
   "source": [
    "We have 3552 observations and 11 features.\n",
    "\n",
    "There are no null values.\n",
    "\n",
    "The columns are in the appropriate data types.\n",
    "\n",
    "We'll convert the 'year' column if need arises."
   ]
  },
  {
   "cell_type": "code",
   "execution_count": 5,
   "metadata": {},
   "outputs": [
    {
     "data": {
      "text/plain": [
       "Index(['Job Title', 'Employment Type', 'Experience Level', 'Expertise Level',\n",
       "       'Salary', 'Salary Currency', 'Company Location', 'Salary in USD',\n",
       "       'Employee Residence', 'Company Size', 'Year'],\n",
       "      dtype='object')"
      ]
     },
     "execution_count": 5,
     "metadata": {},
     "output_type": "execute_result"
    }
   ],
   "source": [
    "sal.columns"
   ]
  },
  {
   "cell_type": "code",
   "execution_count": 6,
   "metadata": {},
   "outputs": [
    {
     "data": {
      "text/html": [
       "<div>\n",
       "<style scoped>\n",
       "    .dataframe tbody tr th:only-of-type {\n",
       "        vertical-align: middle;\n",
       "    }\n",
       "\n",
       "    .dataframe tbody tr th {\n",
       "        vertical-align: top;\n",
       "    }\n",
       "\n",
       "    .dataframe thead th {\n",
       "        text-align: right;\n",
       "    }\n",
       "</style>\n",
       "<table border=\"1\" class=\"dataframe\">\n",
       "  <thead>\n",
       "    <tr style=\"text-align: right;\">\n",
       "      <th></th>\n",
       "      <th>count</th>\n",
       "      <th>mean</th>\n",
       "      <th>std</th>\n",
       "      <th>min</th>\n",
       "      <th>25%</th>\n",
       "      <th>50%</th>\n",
       "      <th>75%</th>\n",
       "      <th>max</th>\n",
       "    </tr>\n",
       "  </thead>\n",
       "  <tbody>\n",
       "    <tr>\n",
       "      <th>Salary</th>\n",
       "      <td>3552.0</td>\n",
       "      <td>201123.001971</td>\n",
       "      <td>703573.512827</td>\n",
       "      <td>14000.0</td>\n",
       "      <td>94400.0</td>\n",
       "      <td>140000.0</td>\n",
       "      <td>190000.0</td>\n",
       "      <td>30400000.0</td>\n",
       "    </tr>\n",
       "    <tr>\n",
       "      <th>Salary in USD</th>\n",
       "      <td>3552.0</td>\n",
       "      <td>142209.308559</td>\n",
       "      <td>68534.614790</td>\n",
       "      <td>15000.0</td>\n",
       "      <td>91000.0</td>\n",
       "      <td>136000.0</td>\n",
       "      <td>185000.0</td>\n",
       "      <td>450000.0</td>\n",
       "    </tr>\n",
       "    <tr>\n",
       "      <th>Year</th>\n",
       "      <td>3552.0</td>\n",
       "      <td>2022.530687</td>\n",
       "      <td>0.702543</td>\n",
       "      <td>2020.0</td>\n",
       "      <td>2022.0</td>\n",
       "      <td>2023.0</td>\n",
       "      <td>2023.0</td>\n",
       "      <td>2023.0</td>\n",
       "    </tr>\n",
       "  </tbody>\n",
       "</table>\n",
       "</div>"
      ],
      "text/plain": [
       "                count           mean            std      min      25%  \\\n",
       "Salary         3552.0  201123.001971  703573.512827  14000.0  94400.0   \n",
       "Salary in USD  3552.0  142209.308559   68534.614790  15000.0  91000.0   \n",
       "Year           3552.0    2022.530687       0.702543   2020.0   2022.0   \n",
       "\n",
       "                    50%       75%         max  \n",
       "Salary         140000.0  190000.0  30400000.0  \n",
       "Salary in USD  136000.0  185000.0    450000.0  \n",
       "Year             2023.0    2023.0      2023.0  "
      ]
     },
     "execution_count": 6,
     "metadata": {},
     "output_type": "execute_result"
    }
   ],
   "source": [
    "# statistics describing our numeric columns\n",
    "\n",
    "sal.describe().transpose()"
   ]
  },
  {
   "cell_type": "markdown",
   "metadata": {},
   "source": [
    "Salaries range from 15,000 USD to $450,000 USD.\n",
    "\n",
    "Salary data goes as far back as 2020."
   ]
  },
  {
   "cell_type": "code",
   "execution_count": 7,
   "metadata": {},
   "outputs": [
    {
     "data": {
      "text/html": [
       "<div>\n",
       "<style scoped>\n",
       "    .dataframe tbody tr th:only-of-type {\n",
       "        vertical-align: middle;\n",
       "    }\n",
       "\n",
       "    .dataframe tbody tr th {\n",
       "        vertical-align: top;\n",
       "    }\n",
       "\n",
       "    .dataframe thead th {\n",
       "        text-align: right;\n",
       "    }\n",
       "</style>\n",
       "<table border=\"1\" class=\"dataframe\">\n",
       "  <thead>\n",
       "    <tr style=\"text-align: right;\">\n",
       "      <th></th>\n",
       "      <th>count</th>\n",
       "      <th>unique</th>\n",
       "      <th>top</th>\n",
       "      <th>freq</th>\n",
       "    </tr>\n",
       "  </thead>\n",
       "  <tbody>\n",
       "    <tr>\n",
       "      <th>Job Title</th>\n",
       "      <td>3552</td>\n",
       "      <td>115</td>\n",
       "      <td>Data Engineer</td>\n",
       "      <td>745</td>\n",
       "    </tr>\n",
       "    <tr>\n",
       "      <th>Employment Type</th>\n",
       "      <td>3552</td>\n",
       "      <td>4</td>\n",
       "      <td>Full-Time</td>\n",
       "      <td>3513</td>\n",
       "    </tr>\n",
       "    <tr>\n",
       "      <th>Experience Level</th>\n",
       "      <td>3552</td>\n",
       "      <td>4</td>\n",
       "      <td>Senior</td>\n",
       "      <td>2234</td>\n",
       "    </tr>\n",
       "    <tr>\n",
       "      <th>Expertise Level</th>\n",
       "      <td>3552</td>\n",
       "      <td>4</td>\n",
       "      <td>Expert</td>\n",
       "      <td>2234</td>\n",
       "    </tr>\n",
       "    <tr>\n",
       "      <th>Salary Currency</th>\n",
       "      <td>3552</td>\n",
       "      <td>22</td>\n",
       "      <td>United States Dollar</td>\n",
       "      <td>2994</td>\n",
       "    </tr>\n",
       "    <tr>\n",
       "      <th>Company Location</th>\n",
       "      <td>3552</td>\n",
       "      <td>71</td>\n",
       "      <td>United States</td>\n",
       "      <td>2682</td>\n",
       "    </tr>\n",
       "    <tr>\n",
       "      <th>Employee Residence</th>\n",
       "      <td>3552</td>\n",
       "      <td>83</td>\n",
       "      <td>United States</td>\n",
       "      <td>2637</td>\n",
       "    </tr>\n",
       "    <tr>\n",
       "      <th>Company Size</th>\n",
       "      <td>3552</td>\n",
       "      <td>3</td>\n",
       "      <td>Medium</td>\n",
       "      <td>2939</td>\n",
       "    </tr>\n",
       "  </tbody>\n",
       "</table>\n",
       "</div>"
      ],
      "text/plain": [
       "                   count unique                   top  freq\n",
       "Job Title           3552    115         Data Engineer   745\n",
       "Employment Type     3552      4             Full-Time  3513\n",
       "Experience Level    3552      4                Senior  2234\n",
       "Expertise Level     3552      4                Expert  2234\n",
       "Salary Currency     3552     22  United States Dollar  2994\n",
       "Company Location    3552     71         United States  2682\n",
       "Employee Residence  3552     83         United States  2637\n",
       "Company Size        3552      3                Medium  2939"
      ]
     },
     "execution_count": 7,
     "metadata": {},
     "output_type": "execute_result"
    }
   ],
   "source": [
    "# descriptive statistics for our categorical columns\n",
    "\n",
    "sal.describe(include=['O']).transpose()"
   ]
  },
  {
   "cell_type": "markdown",
   "metadata": {},
   "source": [
    "Right out of the gate we see that we have 115 unique job titles that specify the various data roles available in our dataset. If you've been paying close attention to data-related job descriptions, you know that similar roles may have different titles at different companies. For example, a Principal Data Scientist at one company may be a Head of Data Science at another.\n",
    "\n",
    "Spending a lot of time breaking down salaries for the various job titles would be a thankless task. We will instead focus our attention on experience and expertise levels as well as company size and location."
   ]
  },
  {
   "cell_type": "markdown",
   "metadata": {},
   "source": [
    "We have 22 unique currencies meaning we have data professionals from more than 22 distinct countries. A single currency like the Euro is shared by multiple countries. Lucky for us we have a column (Salary in USD) where all the salaries have been converted to USD."
   ]
  },
  {
   "cell_type": "markdown",
   "metadata": {},
   "source": [
    "About 75% of the data professionals featured in our dataset work for companies based in the United States and reside in the United States themselves."
   ]
  },
  {
   "cell_type": "markdown",
   "metadata": {},
   "source": [
    "**What are the 10 most common job titles?**"
   ]
  },
  {
   "cell_type": "code",
   "execution_count": 8,
   "metadata": {},
   "outputs": [
    {
     "data": {
      "text/plain": [
       "Data Engineer                745\n",
       "Data Scientist               679\n",
       "Data Analyst                 490\n",
       "Machine Learning Engineer    325\n",
       "Analytics Engineer           143\n",
       "Research Scientist           111\n",
       "Data Architect                87\n",
       "Research Engineer             67\n",
       "ML Engineer                   65\n",
       "Data Science Manager          61\n",
       "Name: Job Title, dtype: int64"
      ]
     },
     "execution_count": 8,
     "metadata": {},
     "output_type": "execute_result"
    }
   ],
   "source": [
    "sal['Job Title'].value_counts()[:10]"
   ]
  },
  {
   "cell_type": "markdown",
   "metadata": {},
   "source": [
    "`Data Engineer`, `Data Scientist`, `Data Analyst`, and `Machine Learning Engineer` are the most common job titles."
   ]
  },
  {
   "cell_type": "markdown",
   "metadata": {},
   "source": [
    "Notice that in the top 10 we have both `Machine Learning Engineer` and `ML Engineer`. These two refer to the same thing. We should find a way to reconcile them."
   ]
  },
  {
   "cell_type": "code",
   "execution_count": 9,
   "metadata": {},
   "outputs": [],
   "source": [
    "sal['Job Title'] = sal['Job Title'].replace('ML Engineer','Machine Learning Engineer')"
   ]
  },
  {
   "cell_type": "code",
   "execution_count": 10,
   "metadata": {},
   "outputs": [
    {
     "data": {
      "text/plain": [
       "Data Engineer                745\n",
       "Data Scientist               679\n",
       "Data Analyst                 490\n",
       "Machine Learning Engineer    390\n",
       "Analytics Engineer           143\n",
       "Research Scientist           111\n",
       "Data Architect                87\n",
       "Research Engineer             67\n",
       "Data Science Manager          61\n",
       "Applied Scientist             55\n",
       "Name: Job Title, dtype: int64"
      ]
     },
     "execution_count": 10,
     "metadata": {},
     "output_type": "execute_result"
    }
   ],
   "source": [
    "sal['Job Title'].value_counts()[:10]"
   ]
  },
  {
   "cell_type": "markdown",
   "metadata": {},
   "source": [
    "The 65 entries for ML Engineer were added to Machine Learning Engineer. Now the top 10 includes Applied Scientist.\n",
    "\n",
    "There may exist more scenarios like this one but we won't go looking as job titles are not our primary concern."
   ]
  },
  {
   "cell_type": "code",
   "execution_count": null,
   "metadata": {},
   "outputs": [],
   "source": []
  },
  {
   "cell_type": "markdown",
   "metadata": {},
   "source": [
    "**How many professionals do we have for each of the 4 employment types?**"
   ]
  },
  {
   "cell_type": "code",
   "execution_count": 11,
   "metadata": {},
   "outputs": [
    {
     "data": {
      "text/plain": [
       "<AxesSubplot:xlabel='Employment Type', ylabel='count'>"
      ]
     },
     "execution_count": 11,
     "metadata": {},
     "output_type": "execute_result"
    },
    {
     "data": {
      "image/png": "[encoded data removed]",
      "text/plain": [
       "<Figure size 576x432 with 1 Axes>"
      ]
     },
     "metadata": {
      "needs_background": "light"
     },
     "output_type": "display_data"
    }
   ],
   "source": [
    "plt.figure(figsize=(8,6))\n",
    "sns.countplot(data=sal, x='Employment Type')"
   ]
  },
  {
   "cell_type": "code",
   "execution_count": 12,
   "metadata": {},
   "outputs": [
    {
     "data": {
      "text/plain": [
       "Full-Time    3513\n",
       "Contract       15\n",
       "Part-Time      13\n",
       "Freelance      11\n",
       "Name: Employment Type, dtype: int64"
      ]
     },
     "execution_count": 12,
     "metadata": {},
     "output_type": "execute_result"
    }
   ],
   "source": [
    "sal['Employment Type'].value_counts()"
   ]
  },
  {
   "cell_type": "code",
   "execution_count": 13,
   "metadata": {},
   "outputs": [
    {
     "data": {
      "text/plain": [
       "98.9"
      ]
     },
     "execution_count": 13,
     "metadata": {},
     "output_type": "execute_result"
    }
   ],
   "source": [
    "round(100*len(sal[sal['Employment Type']=='Full-Time'])/len(sal),2)"
   ]
  },
  {
   "cell_type": "markdown",
   "metadata": {},
   "source": [
    "An overwhelming majority work full-time roles. 98.9% to be precise."
   ]
  },
  {
   "cell_type": "code",
   "execution_count": null,
   "metadata": {},
   "outputs": [],
   "source": []
  },
  {
   "cell_type": "markdown",
   "metadata": {},
   "source": [
    "**How skilled and experienced are the data professionals?**"
   ]
  },
  {
   "cell_type": "code",
   "execution_count": 14,
   "metadata": {},
   "outputs": [
    {
     "data": {
      "text/plain": [
       "<AxesSubplot:xlabel='Expertise Level', ylabel='count'>"
      ]
     },
     "execution_count": 14,
     "metadata": {},
     "output_type": "execute_result"
    },
    {
     "data": {
      "image/png": "[encoded data removed]",
      "text/plain": [
       "<Figure size 1008x432 with 2 Axes>"
      ]
     },
     "metadata": {
      "needs_background": "light"
     },
     "output_type": "display_data"
    }
   ],
   "source": [
    "fig, axes = plt.subplots(1,2, figsize=(14,6))\n",
    "\n",
    "sns.countplot(data=sal, x='Experience Level', ax=axes[0])\n",
    "sns.countplot(data=sal, x='Expertise Level', ax=axes[1])"
   ]
  },
  {
   "cell_type": "markdown",
   "metadata": {},
   "source": [
    "A vast majority of our professionals are very advanced in their data careers. They occupy senior positions and consider themselves experts in their respective roles. It is therefore safe to assume that they command astronomical salaries. We will need to be careful when making blanket conclusions about salaries in the data space."
   ]
  },
  {
   "cell_type": "code",
   "execution_count": null,
   "metadata": {},
   "outputs": [],
   "source": []
  },
  {
   "cell_type": "markdown",
   "metadata": {},
   "source": [
    "**Where are the companies located?**"
   ]
  },
  {
   "cell_type": "code",
   "execution_count": 15,
   "metadata": {},
   "outputs": [
    {
     "data": {
      "text/plain": [
       "<AxesSubplot:>"
      ]
     },
     "execution_count": 15,
     "metadata": {},
     "output_type": "execute_result"
    },
    {
     "data": {
      "image/png": "[encoded data removed]",
      "text/plain": [
       "<Figure size 432x288 with 1 Axes>"
      ]
     },
     "metadata": {
      "needs_background": "light"
     },
     "output_type": "display_data"
    }
   ],
   "source": [
    "# top 10 countries\n",
    "\n",
    "sal['Company Location'].value_counts().head(10).plot(kind='barh')"
   ]
  },
  {
   "cell_type": "code",
   "execution_count": 16,
   "metadata": {},
   "outputs": [
    {
     "data": {
      "text/plain": [
       "75.51"
      ]
     },
     "execution_count": 16,
     "metadata": {},
     "output_type": "execute_result"
    }
   ],
   "source": [
    "np.round(100*len(sal[sal['Company Location']=='United States'])/len(sal),2)"
   ]
  },
  {
   "cell_type": "markdown",
   "metadata": {},
   "source": [
    "About three-quarters (75.51%) of the featured companies are based in the United States."
   ]
  },
  {
   "cell_type": "code",
   "execution_count": null,
   "metadata": {},
   "outputs": [],
   "source": []
  },
  {
   "cell_type": "markdown",
   "metadata": {},
   "source": [
    "**Where do the data professionals reside?**"
   ]
  },
  {
   "cell_type": "code",
   "execution_count": 17,
   "metadata": {},
   "outputs": [
    {
     "data": {
      "text/plain": [
       "United States     2637\n",
       "United Kingdom     266\n",
       "Canada             126\n",
       "Germany             62\n",
       "India               59\n",
       "Spain               55\n",
       "France              47\n",
       "Australia           18\n",
       "Portugal            18\n",
       "Netherlands         17\n",
       "Name: Employee Residence, dtype: int64"
      ]
     },
     "execution_count": 17,
     "metadata": {},
     "output_type": "execute_result"
    }
   ],
   "source": [
    "sal['Employee Residence'].value_counts()[:10]"
   ]
  },
  {
   "cell_type": "code",
   "execution_count": null,
   "metadata": {},
   "outputs": [],
   "source": []
  },
  {
   "cell_type": "markdown",
   "metadata": {},
   "source": [
    "**Do any of the professionals work remotely?**"
   ]
  },
  {
   "cell_type": "code",
   "execution_count": 18,
   "metadata": {},
   "outputs": [],
   "source": [
    "remote = sal[sal['Company Location']!=sal['Employee Residence']]"
   ]
  },
  {
   "cell_type": "code",
   "execution_count": 19,
   "metadata": {},
   "outputs": [
    {
     "data": {
      "text/html": [
       "<div>\n",
       "<style scoped>\n",
       "    .dataframe tbody tr th:only-of-type {\n",
       "        vertical-align: middle;\n",
       "    }\n",
       "\n",
       "    .dataframe tbody tr th {\n",
       "        vertical-align: top;\n",
       "    }\n",
       "\n",
       "    .dataframe thead th {\n",
       "        text-align: right;\n",
       "    }\n",
       "</style>\n",
       "<table border=\"1\" class=\"dataframe\">\n",
       "  <thead>\n",
       "    <tr style=\"text-align: right;\">\n",
       "      <th></th>\n",
       "      <th>Job Title</th>\n",
       "      <th>Employment Type</th>\n",
       "      <th>Experience Level</th>\n",
       "      <th>Expertise Level</th>\n",
       "      <th>Salary</th>\n",
       "      <th>Salary Currency</th>\n",
       "      <th>Company Location</th>\n",
       "      <th>Salary in USD</th>\n",
       "      <th>Employee Residence</th>\n",
       "      <th>Company Size</th>\n",
       "      <th>Year</th>\n",
       "    </tr>\n",
       "  </thead>\n",
       "  <tbody>\n",
       "    <tr>\n",
       "      <th>2873</th>\n",
       "      <td>NLP Engineer</td>\n",
       "      <td>Contract</td>\n",
       "      <td>Mid</td>\n",
       "      <td>Intermediate</td>\n",
       "      <td>60000</td>\n",
       "      <td>United States Dollar</td>\n",
       "      <td>United States</td>\n",
       "      <td>60000</td>\n",
       "      <td>India</td>\n",
       "      <td>Small</td>\n",
       "      <td>2022</td>\n",
       "    </tr>\n",
       "    <tr>\n",
       "      <th>2710</th>\n",
       "      <td>Data Analyst</td>\n",
       "      <td>Part-Time</td>\n",
       "      <td>Entry</td>\n",
       "      <td>Junior</td>\n",
       "      <td>125404</td>\n",
       "      <td>United States Dollar</td>\n",
       "      <td>United States</td>\n",
       "      <td>125404</td>\n",
       "      <td>China</td>\n",
       "      <td>Small</td>\n",
       "      <td>2022</td>\n",
       "    </tr>\n",
       "    <tr>\n",
       "      <th>2060</th>\n",
       "      <td>Data Analyst</td>\n",
       "      <td>Full-Time</td>\n",
       "      <td>Entry</td>\n",
       "      <td>Junior</td>\n",
       "      <td>50000</td>\n",
       "      <td>United States Dollar</td>\n",
       "      <td>United States</td>\n",
       "      <td>50000</td>\n",
       "      <td>Kuwait</td>\n",
       "      <td>Large</td>\n",
       "      <td>2023</td>\n",
       "    </tr>\n",
       "    <tr>\n",
       "      <th>2204</th>\n",
       "      <td>Data Scientist</td>\n",
       "      <td>Full-Time</td>\n",
       "      <td>Entry</td>\n",
       "      <td>Junior</td>\n",
       "      <td>50000</td>\n",
       "      <td>United States Dollar</td>\n",
       "      <td>United States</td>\n",
       "      <td>50000</td>\n",
       "      <td>India</td>\n",
       "      <td>Medium</td>\n",
       "      <td>2023</td>\n",
       "    </tr>\n",
       "    <tr>\n",
       "      <th>3351</th>\n",
       "      <td>Applied Data Scientist</td>\n",
       "      <td>Full-Time</td>\n",
       "      <td>Mid</td>\n",
       "      <td>Intermediate</td>\n",
       "      <td>68000</td>\n",
       "      <td>Canadian Dollar</td>\n",
       "      <td>Canada</td>\n",
       "      <td>54238</td>\n",
       "      <td>United Kingdom</td>\n",
       "      <td>Large</td>\n",
       "      <td>2021</td>\n",
       "    </tr>\n",
       "  </tbody>\n",
       "</table>\n",
       "</div>"
      ],
      "text/plain": [
       "                   Job Title Employment Type Experience Level Expertise Level  \\\n",
       "2873            NLP Engineer        Contract              Mid    Intermediate   \n",
       "2710            Data Analyst       Part-Time            Entry          Junior   \n",
       "2060            Data Analyst       Full-Time            Entry          Junior   \n",
       "2204          Data Scientist       Full-Time            Entry          Junior   \n",
       "3351  Applied Data Scientist       Full-Time              Mid    Intermediate   \n",
       "\n",
       "      Salary       Salary Currency Company Location  Salary in USD  \\\n",
       "2873   60000  United States Dollar    United States          60000   \n",
       "2710  125404  United States Dollar    United States         125404   \n",
       "2060   50000  United States Dollar    United States          50000   \n",
       "2204   50000  United States Dollar    United States          50000   \n",
       "3351   68000       Canadian Dollar           Canada          54238   \n",
       "\n",
       "     Employee Residence Company Size  Year  \n",
       "2873              India        Small  2022  \n",
       "2710              China        Small  2022  \n",
       "2060             Kuwait        Large  2023  \n",
       "2204              India       Medium  2023  \n",
       "3351     United Kingdom        Large  2021  "
      ]
     },
     "execution_count": 19,
     "metadata": {},
     "output_type": "execute_result"
    }
   ],
   "source": [
    "remote.sample(5)"
   ]
  },
  {
   "cell_type": "code",
   "execution_count": 20,
   "metadata": {},
   "outputs": [
    {
     "data": {
      "text/plain": [
       "107"
      ]
     },
     "execution_count": 20,
     "metadata": {},
     "output_type": "execute_result"
    }
   ],
   "source": [
    "len(remote)"
   ]
  },
  {
   "cell_type": "code",
   "execution_count": 21,
   "metadata": {},
   "outputs": [
    {
     "data": {
      "text/plain": [
       "3.01"
      ]
     },
     "execution_count": 21,
     "metadata": {},
     "output_type": "execute_result"
    }
   ],
   "source": [
    "round(100*len(remote)/len(sal),2)"
   ]
  },
  {
   "cell_type": "markdown",
   "metadata": {},
   "source": [
    "Out of the 3552 data professionals in our dataset, 107 work remotely. This represesnts 3.01% of the total."
   ]
  },
  {
   "cell_type": "code",
   "execution_count": null,
   "metadata": {},
   "outputs": [],
   "source": []
  },
  {
   "cell_type": "markdown",
   "metadata": {},
   "source": [
    "**Are there any Kenyans or companies based in Kenya?**"
   ]
  },
  {
   "cell_type": "code",
   "execution_count": 22,
   "metadata": {},
   "outputs": [
    {
     "data": {
      "text/html": [
       "<div>\n",
       "<style scoped>\n",
       "    .dataframe tbody tr th:only-of-type {\n",
       "        vertical-align: middle;\n",
       "    }\n",
       "\n",
       "    .dataframe tbody tr th {\n",
       "        vertical-align: top;\n",
       "    }\n",
       "\n",
       "    .dataframe thead th {\n",
       "        text-align: right;\n",
       "    }\n",
       "</style>\n",
       "<table border=\"1\" class=\"dataframe\">\n",
       "  <thead>\n",
       "    <tr style=\"text-align: right;\">\n",
       "      <th></th>\n",
       "      <th>Job Title</th>\n",
       "      <th>Employment Type</th>\n",
       "      <th>Experience Level</th>\n",
       "      <th>Expertise Level</th>\n",
       "      <th>Salary</th>\n",
       "      <th>Salary Currency</th>\n",
       "      <th>Company Location</th>\n",
       "      <th>Salary in USD</th>\n",
       "      <th>Employee Residence</th>\n",
       "      <th>Company Size</th>\n",
       "      <th>Year</th>\n",
       "    </tr>\n",
       "  </thead>\n",
       "  <tbody>\n",
       "    <tr>\n",
       "      <th>171</th>\n",
       "      <td>BI Data Analyst</td>\n",
       "      <td>Full-Time</td>\n",
       "      <td>Entry</td>\n",
       "      <td>Junior</td>\n",
       "      <td>50000</td>\n",
       "      <td>United States Dollar</td>\n",
       "      <td>Kenya</td>\n",
       "      <td>50000</td>\n",
       "      <td>Kenya</td>\n",
       "      <td>Small</td>\n",
       "      <td>2023</td>\n",
       "    </tr>\n",
       "    <tr>\n",
       "      <th>2177</th>\n",
       "      <td>Applied Data Scientist</td>\n",
       "      <td>Full-Time</td>\n",
       "      <td>Mid</td>\n",
       "      <td>Intermediate</td>\n",
       "      <td>80000</td>\n",
       "      <td>United States Dollar</td>\n",
       "      <td>Kenya</td>\n",
       "      <td>80000</td>\n",
       "      <td>Kenya</td>\n",
       "      <td>Small</td>\n",
       "      <td>2023</td>\n",
       "    </tr>\n",
       "  </tbody>\n",
       "</table>\n",
       "</div>"
      ],
      "text/plain": [
       "                   Job Title Employment Type Experience Level Expertise Level  \\\n",
       "171          BI Data Analyst       Full-Time            Entry          Junior   \n",
       "2177  Applied Data Scientist       Full-Time              Mid    Intermediate   \n",
       "\n",
       "      Salary       Salary Currency Company Location  Salary in USD  \\\n",
       "171    50000  United States Dollar            Kenya          50000   \n",
       "2177   80000  United States Dollar            Kenya          80000   \n",
       "\n",
       "     Employee Residence Company Size  Year  \n",
       "171               Kenya        Small  2023  \n",
       "2177              Kenya        Small  2023  "
      ]
     },
     "execution_count": 22,
     "metadata": {},
     "output_type": "execute_result"
    }
   ],
   "source": [
    "sal[(sal['Company Location']=='Kenya') | (sal['Employee Residence']=='Kenya')]"
   ]
  },
  {
   "cell_type": "markdown",
   "metadata": {},
   "source": [
    "There are two Kenyan residents that work full-time data roles for small Kenya-based companies.\n",
    "\n",
    "Their salaries look a bit suspicious. As a resident of this country I find it hard to believe that a small Kenyan company can part with 50,000 USD a year for an entry-level analyst. We'll take these figures with a pinch of salt."
   ]
  },
  {
   "cell_type": "code",
   "execution_count": null,
   "metadata": {},
   "outputs": [],
   "source": []
  },
  {
   "cell_type": "markdown",
   "metadata": {},
   "source": [
    "**What's the size of these companies?**"
   ]
  },
  {
   "cell_type": "code",
   "execution_count": 23,
   "metadata": {},
   "outputs": [
    {
     "data": {
      "text/plain": [
       "Medium    2939\n",
       "Large      460\n",
       "Small      153\n",
       "Name: Company Size, dtype: int64"
      ]
     },
     "execution_count": 23,
     "metadata": {},
     "output_type": "execute_result"
    }
   ],
   "source": [
    "sal['Company Size'].value_counts()"
   ]
  },
  {
   "cell_type": "code",
   "execution_count": 24,
   "metadata": {},
   "outputs": [
    {
     "data": {
      "text/plain": [
       "<AxesSubplot:xlabel='Company Size', ylabel='count'>"
      ]
     },
     "execution_count": 24,
     "metadata": {},
     "output_type": "execute_result"
    },
    {
     "data": {
      "image/png": "[encoded data removed]",
      "text/plain": [
       "<Figure size 432x288 with 1 Axes>"
      ]
     },
     "metadata": {
      "needs_background": "light"
     },
     "output_type": "display_data"
    }
   ],
   "source": [
    "sns.countplot(data=sal,x='Company Size')"
   ]
  },
  {
   "cell_type": "code",
   "execution_count": 25,
   "metadata": {},
   "outputs": [
    {
     "data": {
      "text/plain": [
       "17.257882882882882"
      ]
     },
     "execution_count": 25,
     "metadata": {},
     "output_type": "execute_result"
    }
   ],
   "source": [
    "100*len(sal[sal['Company Size']!='Medium'])/len(sal)"
   ]
  },
  {
   "cell_type": "markdown",
   "metadata": {},
   "source": [
    "Large and Small copmanies make up just 17.26%, the rest are mid-sized companies."
   ]
  },
  {
   "cell_type": "code",
   "execution_count": null,
   "metadata": {},
   "outputs": [],
   "source": []
  },
  {
   "cell_type": "markdown",
   "metadata": {},
   "source": [
    "**Do we have current data?**"
   ]
  },
  {
   "cell_type": "code",
   "execution_count": 26,
   "metadata": {},
   "outputs": [
    {
     "data": {
      "text/plain": [
       "<AxesSubplot:>"
      ]
     },
     "execution_count": 26,
     "metadata": {},
     "output_type": "execute_result"
    },
    {
     "data": {
      "image/png": "[encoded data removed]",
      "text/plain": [
       "<Figure size 432x288 with 1 Axes>"
      ]
     },
     "metadata": {
      "needs_background": "light"
     },
     "output_type": "display_data"
    }
   ],
   "source": [
    "sal['Year'].value_counts().plot(kind='bar')"
   ]
  },
  {
   "cell_type": "code",
   "execution_count": 27,
   "metadata": {},
   "outputs": [
    {
     "data": {
      "text/plain": [
       "63.23"
      ]
     },
     "execution_count": 27,
     "metadata": {},
     "output_type": "execute_result"
    }
   ],
   "source": [
    "np.round(100*len(sal[sal['Year']==2023])/len(sal),2)"
   ]
  },
  {
   "cell_type": "markdown",
   "metadata": {},
   "source": [
    "We have data from 2020 to 2023. 63.23% of that data is for 2023 alone."
   ]
  },
  {
   "cell_type": "code",
   "execution_count": null,
   "metadata": {},
   "outputs": [],
   "source": []
  },
  {
   "cell_type": "markdown",
   "metadata": {},
   "source": [
    "**What is the average salary for a data professional?**"
   ]
  },
  {
   "cell_type": "code",
   "execution_count": 28,
   "metadata": {},
   "outputs": [
    {
     "data": {
      "text/plain": [
       "142209.30855855855"
      ]
     },
     "execution_count": 28,
     "metadata": {},
     "output_type": "execute_result"
    }
   ],
   "source": [
    "np.mean(sal['Salary in USD'])"
   ]
  },
  {
   "cell_type": "code",
   "execution_count": null,
   "metadata": {},
   "outputs": [],
   "source": []
  },
  {
   "cell_type": "markdown",
   "metadata": {},
   "source": [
    "**What is the median salary?**"
   ]
  },
  {
   "cell_type": "code",
   "execution_count": 29,
   "metadata": {},
   "outputs": [
    {
     "data": {
      "text/plain": [
       "136000.0"
      ]
     },
     "execution_count": 29,
     "metadata": {},
     "output_type": "execute_result"
    }
   ],
   "source": [
    "np.percentile(sal['Salary in USD'], 50)"
   ]
  },
  {
   "cell_type": "code",
   "execution_count": null,
   "metadata": {},
   "outputs": [],
   "source": []
  },
  {
   "cell_type": "markdown",
   "metadata": {},
   "source": [
    "**How are the salaries distributed?**"
   ]
  },
  {
   "cell_type": "code",
   "execution_count": 30,
   "metadata": {},
   "outputs": [
    {
     "data": {
      "text/plain": [
       "<AxesSubplot:xlabel='Salary in USD', ylabel='Count'>"
      ]
     },
     "execution_count": 30,
     "metadata": {},
     "output_type": "execute_result"
    },
    {
     "data": {
      "image/png": "[encoded data removed]",
      "text/plain": [
       "<Figure size 720x432 with 1 Axes>"
      ]
     },
     "metadata": {
      "needs_background": "light"
     },
     "output_type": "display_data"
    }
   ],
   "source": [
    "plt.figure(figsize=(10,6))\n",
    "sns.histplot(data=sal, x='Salary in USD',bins=100,kde=True)"
   ]
  },
  {
   "cell_type": "markdown",
   "metadata": {},
   "source": [
    "The salary data appears normally distributed but with a right skew.\n",
    "\n",
    "To confirm that it is truly normal, we'll do a quantile-quantile plot and check to see whether the empirical rule holds true."
   ]
  },
  {
   "cell_type": "code",
   "execution_count": 31,
   "metadata": {},
   "outputs": [],
   "source": [
    "import statsmodels.api as sm"
   ]
  },
  {
   "cell_type": "code",
   "execution_count": 32,
   "metadata": {},
   "outputs": [
    {
     "data": {
      "image/png": "[encoded data removed]",
      "text/plain": [
       "<Figure size 432x288 with 1 Axes>"
      ]
     },
     "metadata": {
      "needs_background": "light"
     },
     "output_type": "display_data"
    }
   ],
   "source": [
    "# quantile-quantile plot from statsmodels\n",
    "\n",
    "fig = sm.qqplot(sal['Salary in USD'], line='s')"
   ]
  },
  {
   "cell_type": "markdown",
   "metadata": {},
   "source": [
    "The data appears to somehow follow a straight line and can be considered normally distributed."
   ]
  },
  {
   "cell_type": "markdown",
   "metadata": {},
   "source": [
    "### Empirical rule\n",
    "\n",
    "It states that for a given dataset with a normal distribution:\n",
    "* **68%** of the values lie within 1 standard deviation of the mean\n",
    "* **95%** of the values lie within 2 standard deviations of the mean\n",
    "* **99.7%** of the values lie within 3 standard deviations of the mean"
   ]
  },
  {
   "cell_type": "code",
   "execution_count": 33,
   "metadata": {},
   "outputs": [
    {
     "name": "stdout",
     "output_type": "stream",
     "text": [
      "Average salary:  142209.30855855855\n",
      "Salary std:  68534.6147896401\n"
     ]
    }
   ],
   "source": [
    "sal_mean = sal['Salary in USD'].mean()\n",
    "sal_std = sal['Salary in USD'].std()\n",
    "\n",
    "print('Average salary: ', sal_mean)\n",
    "print('Salary std: ', sal_std)"
   ]
  },
  {
   "cell_type": "markdown",
   "metadata": {},
   "source": [
    "`Empirical rule part 1 - 68%`"
   ]
  },
  {
   "cell_type": "code",
   "execution_count": 34,
   "metadata": {},
   "outputs": [
    {
     "name": "stdout",
     "output_type": "stream",
     "text": [
      "upper limit: 210743.92334819864\n",
      "lower limit: 73674.69376891846\n",
      "Percentage of data that falls within 1 std of the mean: 68.69369369369369\n"
     ]
    }
   ],
   "source": [
    "# what percentage of the salary data falls within 1 standard deviation of the mean?\n",
    "\n",
    "upper_limit = sal_mean + 1*sal_std\n",
    "print('upper limit: {}'.format(upper_limit))\n",
    "\n",
    "lower_limit = sal_mean - 1*sal_std\n",
    "print('lower limit: {}'.format(lower_limit))\n",
    "\n",
    "std_1 = ((sal['Salary in USD'] >= lower_limit) & (sal['Salary in USD'] <= upper_limit)).mean()\n",
    "print('Percentage of data that falls within 1 std of the mean: {}'.format(std_1*100))"
   ]
  },
  {
   "cell_type": "markdown",
   "metadata": {},
   "source": [
    "`Empirical rule part 2 - 95%`"
   ]
  },
  {
   "cell_type": "code",
   "execution_count": 35,
   "metadata": {},
   "outputs": [
    {
     "name": "stdout",
     "output_type": "stream",
     "text": [
      "upper limit: 279278.5381378387\n",
      "lower limit: 5140.078979278362\n",
      "Percentage of data that falls within 1 std of the mean: 96.28378378378379\n"
     ]
    }
   ],
   "source": [
    "# what percentage of the salary data falls within 12 standard deviations of the mean?\n",
    "\n",
    "upper_limit = sal_mean + 2*sal_std\n",
    "print('upper limit: {}'.format(upper_limit))\n",
    "\n",
    "lower_limit = sal_mean - 2*sal_std\n",
    "print('lower limit: {}'.format(lower_limit))\n",
    "\n",
    "std_2 = ((sal['Salary in USD'] >= lower_limit) & (sal['Salary in USD'] <= upper_limit)).mean()\n",
    "print('Percentage of data that falls within 1 std of the mean: {}'.format(std_2*100))"
   ]
  },
  {
   "cell_type": "markdown",
   "metadata": {},
   "source": [
    "`Empirical rule part 3 - 99.7%`"
   ]
  },
  {
   "cell_type": "code",
   "execution_count": 36,
   "metadata": {},
   "outputs": [
    {
     "name": "stdout",
     "output_type": "stream",
     "text": [
      "upper limit: 347813.15292747883\n",
      "lower limit: -63394.53581036173\n",
      "Percentage of data that falls within 1 std of the mean: 99.26801801801803\n"
     ]
    }
   ],
   "source": [
    "# what percentage of the salary data falls within 3 standard deviations of the mean?\n",
    "\n",
    "upper_limit = sal_mean + 3*sal_std\n",
    "print('upper limit: {}'.format(upper_limit))\n",
    "\n",
    "lower_limit = sal_mean - 3*sal_std\n",
    "print('lower limit: {}'.format(lower_limit))\n",
    "\n",
    "std_3 = ((sal['Salary in USD'] >= lower_limit) & (sal['Salary in USD'] <= upper_limit)).mean()\n",
    "print('Percentage of data that falls within 1 std of the mean: {}'.format(std_3*100))"
   ]
  },
  {
   "cell_type": "markdown",
   "metadata": {},
   "source": [
    "Our values of `68.69`,`96.28` and `99.26` are very close to those stated in the empirical rule, meaning our salary data is normally distributed.\n",
    "\n",
    "This determination is important as most statistical tests and machine learning models assume a normal distribution. "
   ]
  },
  {
   "cell_type": "code",
   "execution_count": null,
   "metadata": {},
   "outputs": [],
   "source": []
  },
  {
   "cell_type": "markdown",
   "metadata": {},
   "source": [
    "**Distribution of salaries by employment type**"
   ]
  },
  {
   "cell_type": "code",
   "execution_count": 37,
   "metadata": {},
   "outputs": [
    {
     "data": {
      "text/plain": [
       "<AxesSubplot:xlabel='Employment Type', ylabel='Salary in USD'>"
      ]
     },
     "execution_count": 37,
     "metadata": {},
     "output_type": "execute_result"
    },
    {
     "data": {
      "image/png": "[encoded data removed]",
      "text/plain": [
       "<Figure size 864x432 with 1 Axes>"
      ]
     },
     "metadata": {
      "needs_background": "light"
     },
     "output_type": "display_data"
    }
   ],
   "source": [
    "plt.figure(figsize=(12,6))\n",
    "sns.boxplot(data=sal,x='Employment Type',y='Salary in USD')"
   ]
  },
  {
   "cell_type": "code",
   "execution_count": 38,
   "metadata": {},
   "outputs": [
    {
     "data": {
      "text/plain": [
       "Employment Type\n",
       "Contract     100000\n",
       "Freelance     50000\n",
       "Full-Time    136994\n",
       "Part-Time     34320\n",
       "Name: Salary in USD, dtype: int64"
      ]
     },
     "execution_count": 38,
     "metadata": {},
     "output_type": "execute_result"
    }
   ],
   "source": [
    "sal.groupby('Employment Type').median('Salary in USD')['Salary in USD']"
   ]
  },
  {
   "cell_type": "markdown",
   "metadata": {},
   "source": [
    "Full-time roles have the highest median salaries and have the widest salary distribution. They also have a lot of outliers (abnormally large salaries). \n",
    "\n",
    "Median salaries trend downwards from full-time, contract, freelance and finally to part-time roles. It is to be expected that those working part-time roles have the lowest median salaries.\n",
    "\n",
    "A couple of employees on contract terms earn very high salaries."
   ]
  },
  {
   "cell_type": "code",
   "execution_count": null,
   "metadata": {},
   "outputs": [],
   "source": []
  },
  {
   "cell_type": "markdown",
   "metadata": {},
   "source": [
    "**Distribution of salaries by level of experience**"
   ]
  },
  {
   "cell_type": "code",
   "execution_count": 39,
   "metadata": {},
   "outputs": [
    {
     "data": {
      "text/plain": [
       "<AxesSubplot:xlabel='Experience Level', ylabel='Salary in USD'>"
      ]
     },
     "execution_count": 39,
     "metadata": {},
     "output_type": "execute_result"
    },
    {
     "data": {
      "image/png": "[encoded data removed]",
      "text/plain": [
       "<Figure size 864x432 with 1 Axes>"
      ]
     },
     "metadata": {
      "needs_background": "light"
     },
     "output_type": "display_data"
    }
   ],
   "source": [
    "plt.figure(figsize=(12,6))\n",
    "sns.boxplot(data=sal,x='Experience Level',y='Salary in USD')"
   ]
  },
  {
   "cell_type": "code",
   "execution_count": 40,
   "metadata": {},
   "outputs": [
    {
     "data": {
      "text/plain": [
       "<AxesSubplot:xlabel='Experience Level'>"
      ]
     },
     "execution_count": 40,
     "metadata": {},
     "output_type": "execute_result"
    },
    {
     "data": {
      "image/png": "[encoded data removed]",
      "text/plain": [
       "<Figure size 432x288 with 1 Axes>"
      ]
     },
     "metadata": {
      "needs_background": "light"
     },
     "output_type": "display_data"
    }
   ],
   "source": [
    "sal.groupby('Experience Level').median('Salary in USD').sort_values('Salary in USD')['Salary in USD'].plot(kind='bar')"
   ]
  },
  {
   "cell_type": "markdown",
   "metadata": {},
   "source": [
    "It makes sense that median salaries increase with experience. \n",
    "\n",
    "We have some mid-level employees with huge salaries."
   ]
  },
  {
   "cell_type": "code",
   "execution_count": null,
   "metadata": {},
   "outputs": [],
   "source": []
  },
  {
   "cell_type": "markdown",
   "metadata": {},
   "source": [
    "**Salary distribution by level of expertise**"
   ]
  },
  {
   "cell_type": "code",
   "execution_count": 41,
   "metadata": {},
   "outputs": [
    {
     "data": {
      "text/plain": [
       "<AxesSubplot:xlabel='Salary in USD', ylabel='Density'>"
      ]
     },
     "execution_count": 41,
     "metadata": {},
     "output_type": "execute_result"
    },
    {
     "data": {
      "image/png": "[encoded data removed]",
      "text/plain": [
       "<Figure size 1008x432 with 1 Axes>"
      ]
     },
     "metadata": {
      "needs_background": "light"
     },
     "output_type": "display_data"
    }
   ],
   "source": [
    "plt.figure(figsize=(14,6))\n",
    "sns.kdeplot(data=sal,x='Salary in USD',hue='Expertise Level', fill=True)"
   ]
  },
  {
   "cell_type": "code",
   "execution_count": null,
   "metadata": {},
   "outputs": [],
   "source": []
  },
  {
   "cell_type": "markdown",
   "metadata": {},
   "source": [
    "**How do the salaries look like for companies of different sizes?**"
   ]
  },
  {
   "cell_type": "code",
   "execution_count": 42,
   "metadata": {},
   "outputs": [
    {
     "data": {
      "text/plain": [
       "<AxesSubplot:xlabel='Company Size', ylabel='Salary in USD'>"
      ]
     },
     "execution_count": 42,
     "metadata": {},
     "output_type": "execute_result"
    },
    {
     "data": {
      "image/png": "[encoded data removed]",
      "text/plain": [
       "<Figure size 864x432 with 1 Axes>"
      ]
     },
     "metadata": {
      "needs_background": "light"
     },
     "output_type": "display_data"
    }
   ],
   "source": [
    "plt.figure(figsize=(12,6))\n",
    "sns.boxplot(data=sal,x='Company Size',y='Salary in USD')"
   ]
  },
  {
   "cell_type": "code",
   "execution_count": 43,
   "metadata": {},
   "outputs": [
    {
     "data": {
      "text/plain": [
       "<AxesSubplot:ylabel='Company Size'>"
      ]
     },
     "execution_count": 43,
     "metadata": {},
     "output_type": "execute_result"
    },
    {
     "data": {
      "image/png": "[encoded data removed]",
      "text/plain": [
       "<Figure size 432x288 with 1 Axes>"
      ]
     },
     "metadata": {
      "needs_background": "light"
     },
     "output_type": "display_data"
    }
   ],
   "source": [
    "sal.groupby('Company Size').median('Salary in USD')['Salary in USD'].plot(kind='barh')"
   ]
  },
  {
   "cell_type": "markdown",
   "metadata": {},
   "source": [
    "Interesting to see that medium-sized companies have the highest median salaries.\n",
    "\n",
    "A few employees at small companies earn very high salaries."
   ]
  },
  {
   "cell_type": "code",
   "execution_count": null,
   "metadata": {},
   "outputs": [],
   "source": []
  },
  {
   "cell_type": "code",
   "execution_count": 44,
   "metadata": {},
   "outputs": [
    {
     "data": {
      "text/plain": [
       "<seaborn.axisgrid.FacetGrid at 0x1719ebef710>"
      ]
     },
     "execution_count": 44,
     "metadata": {},
     "output_type": "execute_result"
    },
    {
     "data": {
      "image/png": "[encoded data removed]",
      "text/plain": [
       "<Figure size 1080x360 with 3 Axes>"
      ]
     },
     "metadata": {
      "needs_background": "light"
     },
     "output_type": "display_data"
    }
   ],
   "source": [
    "sns.catplot(x='Experience Level',y='Salary in USD',data=sal, col='Company Size', kind='box')"
   ]
  },
  {
   "cell_type": "markdown",
   "metadata": {},
   "source": [
    "Median salaries increase with expertise regardless of company size.\n",
    "\n",
    "Entry and mid-level data professionals at small companies have roughly the same median salary. \n",
    "\n",
    "Executives at medium-sized companies have a higher median salary compared to their counterparts at large companies. The distribution of salaries at medium companies is however wider.\n",
    "\n",
    "All company sizes have some mid-level employees with larger than normal salaries."
   ]
  },
  {
   "cell_type": "code",
   "execution_count": null,
   "metadata": {},
   "outputs": [],
   "source": []
  },
  {
   "cell_type": "markdown",
   "metadata": {},
   "source": [
    "From the above boxplots, we can see that our salary data has a lot of outliers. As such, `median` is the appropriate metric by which to analyze data science salaries."
   ]
  },
  {
   "cell_type": "code",
   "execution_count": null,
   "metadata": {},
   "outputs": [],
   "source": []
  },
  {
   "cell_type": "markdown",
   "metadata": {},
   "source": [
    "**How do the mean salaries for remote and on-site workers compare?**"
   ]
  },
  {
   "cell_type": "markdown",
   "metadata": {},
   "source": [
    "Remember we created a `remote` dataframe isolating the professionals who work for companies not located in their country of residence."
   ]
  },
  {
   "cell_type": "code",
   "execution_count": 45,
   "metadata": {},
   "outputs": [],
   "source": [
    "# 20 random samples\n",
    "# we will be sampling with replacement\n",
    "# random state is just an arbitrary number\n",
    "\n",
    "remote_sample = remote.sample(n=20, replace=True, random_state=90210)"
   ]
  },
  {
   "cell_type": "code",
   "execution_count": 46,
   "metadata": {},
   "outputs": [
    {
     "data": {
      "text/plain": [
       "89223.7"
      ]
     },
     "execution_count": 46,
     "metadata": {},
     "output_type": "execute_result"
    }
   ],
   "source": [
    "remote_sample['Salary in USD'].mean()"
   ]
  },
  {
   "cell_type": "code",
   "execution_count": 47,
   "metadata": {},
   "outputs": [],
   "source": [
    "on_site = sal[sal['Company Location']==sal['Employee Residence']]"
   ]
  },
  {
   "cell_type": "code",
   "execution_count": 48,
   "metadata": {},
   "outputs": [],
   "source": [
    "on_site_sample = on_site.sample(n=20, replace=True, random_state=72950)"
   ]
  },
  {
   "cell_type": "code",
   "execution_count": 49,
   "metadata": {},
   "outputs": [
    {
     "data": {
      "text/plain": [
       "134397.1"
      ]
     },
     "execution_count": 49,
     "metadata": {},
     "output_type": "execute_result"
    }
   ],
   "source": [
    "on_site_sample['Salary in USD'].mean()"
   ]
  },
  {
   "cell_type": "markdown",
   "metadata": {},
   "source": [
    "From the random samples, the mean salary for those who work remotely is `89223.7 USD`, while the mean salary for those who work and live in the same country is `134397.1 USD`. The difference is actually `45173.4 USD`.\n",
    "\n",
    "Is this difference statistically significant?"
   ]
  },
  {
   "cell_type": "code",
   "execution_count": null,
   "metadata": {},
   "outputs": [],
   "source": []
  },
  {
   "cell_type": "markdown",
   "metadata": {},
   "source": [
    "**Is the difference between the means statistically significant?**"
   ]
  },
  {
   "cell_type": "markdown",
   "metadata": {},
   "source": [
    "The industry standard for comparing two means in the `two-sample t-test` typically used for `A/B testing`.\n",
    "\n",
    "**Two-sample t-test assumptions:**\n",
    "* the two samples are independent of each other\n",
    "* for each sample, the data is drawn randomly from a normally distributed population\n",
    "* the population standard deviation is unknown.\n",
    "\n",
    "It is safe to assume independence in this case. Most datasets are normally distributed and we proved that earlier. The population std is unknown as it is impossible to get salary data for every single data professional. "
   ]
  },
  {
   "cell_type": "markdown",
   "metadata": {},
   "source": [
    "We need to conduct a `hypothesis test` which is a statistical procedure that uses sample data to evaluate an assumption about a population parameter."
   ]
  },
  {
   "cell_type": "markdown",
   "metadata": {},
   "source": [
    "`Step 1`: State the null hypothesis ($H_0$) and alternative hypothesis ($H_A$)\n",
    "\n",
    "\n",
    "$H_0$: there is no difference between the means\n",
    "\n",
    "$H_A$: there is a difference between the means"
   ]
  },
  {
   "cell_type": "markdown",
   "metadata": {},
   "source": [
    "`Step 2`: Choose a significance level which is defined as either the probability of rejecting a null hypothesis when it is true or the threshold at which a result is considered statistically significant."
   ]
  },
  {
   "cell_type": "code",
   "execution_count": 50,
   "metadata": {},
   "outputs": [],
   "source": [
    "significance_level = 0.05"
   ]
  },
  {
   "cell_type": "markdown",
   "metadata": {},
   "source": [
    "`Step 3`: Find the p_value (the probability of observing results as or more extreme than the ones observed when the null hypothesis is true)."
   ]
  },
  {
   "cell_type": "code",
   "execution_count": 51,
   "metadata": {},
   "outputs": [],
   "source": [
    "# to find the p value we import t_test from scipy's stats module\n",
    "\n",
    "from scipy import stats"
   ]
  },
  {
   "cell_type": "code",
   "execution_count": 52,
   "metadata": {},
   "outputs": [
    {
     "data": {
      "text/plain": [
       "Ttest_indResult(statistic=-2.0733468155588386, pvalue=0.04502581320963704)"
      ]
     },
     "execution_count": 52,
     "metadata": {},
     "output_type": "execute_result"
    }
   ],
   "source": [
    "# set equal variance to FALSE\n",
    "# we don't have data for the entire population so can't assume anything about the variance\n",
    "\n",
    "stats.ttest_ind(a=remote_sample['Salary in USD'] , b=on_site_sample['Salary in USD'] , equal_var=False)"
   ]
  },
  {
   "cell_type": "markdown",
   "metadata": {},
   "source": [
    "`Step 4`: Reject or fail to reject the null hypothesis.\n",
    "\n",
    "If p_value < significance level: reject the $H_0$\n",
    "\n",
    "If p_value > significance level: fail to reject the $H_0$"
   ]
  },
  {
   "cell_type": "markdown",
   "metadata": {},
   "source": [
    "Our `pvalue` of `0.04502581320963704` is less than our `significance level` of `0.05`. We therefore reject the null hypothesis that the means are equal and conclude that there is a statistically significant difference between the mean salaries of remote and on-site data professionals. The difference is not due to random chance or sampling variability."
   ]
  },
  {
   "cell_type": "code",
   "execution_count": null,
   "metadata": {},
   "outputs": [],
   "source": []
  }
 ],
 "metadata": {
  "kernelspec": {
   "display_name": "Python 3",
   "language": "python",
   "name": "python3"
  },
  "language_info": {
   "codemirror_mode": {
    "name": "ipython",
    "version": 3
   },
   "file_extension": ".py",
   "mimetype": "text/x-python",
   "name": "python",
   "nbconvert_exporter": "python",
   "pygments_lexer": "ipython3",
   "version": "3.7.2"
  }
 },
 "nbformat": 4,
 "nbformat_minor": 4
}
